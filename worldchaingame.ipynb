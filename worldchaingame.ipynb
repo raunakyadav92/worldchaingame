{
  "nbformat": 4,
  "nbformat_minor": 0,
  "metadata": {
    "colab": {
      "provenance": [],
      "authorship_tag": "ABX9TyNEOqbXQCO2yxFITeRi+Q/d",
      "include_colab_link": true
    },
    "kernelspec": {
      "name": "python3",
      "display_name": "Python 3"
    },
    "language_info": {
      "name": "python"
    }
  },
  "cells": [
    {
      "cell_type": "markdown",
      "metadata": {
        "id": "view-in-github",
        "colab_type": "text"
      },
      "source": [
        "<a href=\"https://colab.research.google.com/github/raunakyadav92/worldchaingame/blob/main/worldchaingame.ipynb\" target=\"_parent\"><img src=\"https://colab.research.google.com/assets/colab-badge.svg\" alt=\"Open In Colab\"/></a>"
      ]
    },
    {
      "cell_type": "code",
      "execution_count": null,
      "metadata": {
        "id": "6ui1qfWtqrRZ"
      },
      "outputs": [],
      "source": [
        "import random\n",
        "\n",
        "# Sample word list for the computer\n",
        "word_list = ['apple', 'elephant', 'tiger', 'rabbit', 'tree', 'eagle', 'ear', 'rat', 'top', 'pencil', 'lamp', 'pen', 'net']\n",
        "\n",
        "used_words = []\n",
        "\n",
        "def get_computer_word(start_letter):\n",
        "    possible_words = [word for word in word_list if word.startswith(start_letter) and word not in used_words]\n",
        "    if possible_words:\n",
        "        return random.choice(possible_words)\n",
        "    else:\n",
        "        return None\n",
        "\n",
        "print(\"🎮 Welcome to Word Chain Game!\")\n",
        "player_word = input(\"🔤 Start with any word: \").lower()\n",
        "used_words.append(player_word)\n",
        "\n",
        "while True:\n",
        "    last_letter = player_word[-1]\n",
        "    computer_word = get_computer_word(last_letter)\n",
        "\n",
        "    if computer_word:\n",
        "        print(f\"🤖 Computer says: {computer_word}\")\n",
        "        used_words.append(computer_word)\n",
        "    else:\n",
        "        print(\"🎉 You Win! Computer couldn't think of a word.\")\n",
        "        break\n",
        "\n",
        "    player_word = input(f\"Your turn! Enter a word starting with '{computer_word[-1]}': \").lower()\n",
        "\n",
        "    if player_word in used_words or player_word[0] != computer_word[-1]:\n",
        "        print(\"❌ Game Over! Invalid move or repeated word.\")\n",
        "        break\n",
        "\n",
        "    used_words.append(player_word)\n"
      ]
    }
  ]
}